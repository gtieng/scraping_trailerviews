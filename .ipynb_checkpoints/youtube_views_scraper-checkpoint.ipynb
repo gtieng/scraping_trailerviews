{
 "cells": [
  {
   "cell_type": "markdown",
   "metadata": {},
   "source": [
    "# title"
   ]
  },
  {
   "cell_type": "code",
   "execution_count": 14,
   "metadata": {},
   "outputs": [],
   "source": [
    "import time\n",
    "import re\n",
    "from selenium import webdriver\n",
    "from selenium.webdriver.chrome.options import Options\n",
    "from bs4 import BeautifulSoup\n",
    "from datetime import datetime"
   ]
  },
  {
   "cell_type": "code",
   "execution_count": 2,
   "metadata": {},
   "outputs": [],
   "source": [
    "def get_video_urls(youtube_playlist_url):\n",
    "    #webdriver setup & html scrape\n",
    "    driver = webdriver.Chrome('resources/chromedriver')\n",
    "    driver.get(youtube_playlist_url)\n",
    "    soup = BeautifulSoup(driver.page_source)\n",
    "\n",
    "    #isolate the video stats\n",
    "    video_stats = soup.find('div', id='stats').text\n",
    "    #use regex to isolate video number\n",
    "    no_of_videos = re.search('(\\d{1,3},?\\d{1,3},?)', video_stats).group()\n",
    "    #number of scroll based on 100 thumbnails per scroll\n",
    "    no_of_scrolls = int(int(no_of_videos) / 100) + 1\n",
    "\n",
    "    #scroll page for every 100 videos\n",
    "    for i in range(no_of_scrolls):\n",
    "        driver.execute_script(\"window.scrollBy(0, 12000);\")\n",
    "        time.sleep(3)\n",
    "\n",
    "    soup = BeautifulSoup(driver.page_source)\n",
    "    driver.quit()\n",
    "\n",
    "    #extract youtube playlist urls\n",
    "    matches = soup.find_all('a', class_='yt-simple-endpoint style-scope ytd-playlist-video-renderer')\n",
    "    youtube_urls = []\n",
    "    for url in matches:\n",
    "        string = url.get('href')\n",
    "        substring = re.search(r'\\/watch\\?v=\\w*', string).group()\n",
    "        youtube_urls.append('http://www.youtube.com' + substring)    \n",
    "    return youtube_urls"
   ]
  },
  {
   "cell_type": "code",
   "execution_count": 3,
   "metadata": {},
   "outputs": [],
   "source": [
    "video = 'https://www.youtube.com/watch?v=4GokR2C9wy0'"
   ]
  },
  {
   "cell_type": "markdown",
   "metadata": {},
   "source": [
    "- title\n",
    "- url\n",
    "- account name\n",
    "- subscribers\n",
    "- views\n",
    "- date uploaded\n",
    "- number of comments\n",
    "- number of likes\n",
    "- number of dislikes"
   ]
  },
  {
   "cell_type": "code",
   "execution_count": 4,
   "metadata": {},
   "outputs": [],
   "source": [
    "driver = webdriver.Chrome('resources/chromedriver')\n",
    "driver.get(video)\n",
    "time.sleep(3)\n",
    "soup = BeautifulSoup(driver.page_source)\n",
    "driver.quit()"
   ]
  },
  {
   "cell_type": "code",
   "execution_count": 10,
   "metadata": {},
   "outputs": [],
   "source": [
    "#viewcount\n",
    "view_count_string = soup.find('yt-view-count-renderer').text\n",
    "view_count = re.search(r'(\\d{1,3},?\\d{1,3},?\\d{1,3},?\\d{1,3},?)', view_count_string).group().replace(',','')"
   ]
  },
  {
   "cell_type": "code",
   "execution_count": 22,
   "metadata": {},
   "outputs": [],
   "source": [
    "#date\n",
    "date_string = soup.find('div', id='date').text\n",
    "date_value = datetime.strptime(date_string, \"•%b %d, %Y\")"
   ]
  },
  {
   "cell_type": "code",
   "execution_count": 54,
   "metadata": {},
   "outputs": [],
   "source": [
    "#subcount\n",
    "def subs_cleaner(value):\n",
    "    if 'K' in value:\n",
    "        value = float(re.sub('K subscribers', '', value))\n",
    "        value *= 1000\n",
    "        return int(value)\n",
    "    elif 'M' in value:\n",
    "        value = float(re.sub('M subscribers', '', value))\n",
    "        value *= 1000000\n",
    "        return int(value)\n",
    "    else:\n",
    "        value = float(re.sub(' subscribers', '', value))\n",
    "        int(value)\n",
    "        \n",
    "subscriber_string = soup.find('yt-formatted-string', id='owner-sub-count').text\n",
    "subscriber_value = subs_cleaner(subscriber_string)"
   ]
  },
  {
   "cell_type": "code",
   "execution_count": 58,
   "metadata": {},
   "outputs": [],
   "source": [
    "#title\n",
    "title_value = soup.find('h1').text"
   ]
  },
  {
   "cell_type": "code",
   "execution_count": 62,
   "metadata": {},
   "outputs": [],
   "source": [
    "#account name\n",
    "account_value = soup.find('yt-formatted-string', class_='ytd-channel-name').text"
   ]
  },
  {
   "cell_type": "code",
   "execution_count": 73,
   "metadata": {},
   "outputs": [
    {
     "data": {
      "text/plain": [
       "<yt-formatted-string class=\"style-scope ytd-button-renderer style-default size-default\" id=\"text\">Skip navigation</yt-formatted-string>"
      ]
     },
     "execution_count": 73,
     "metadata": {},
     "output_type": "execute_result"
    }
   ],
   "source": [
    "soup.find('yt-formatted-string')"
   ]
  },
  {
   "cell_type": "code",
   "execution_count": null,
   "metadata": {},
   "outputs": [],
   "source": []
  }
 ],
 "metadata": {
  "kernelspec": {
   "display_name": "Python 3",
   "language": "python",
   "name": "python3"
  },
  "language_info": {
   "codemirror_mode": {
    "name": "ipython",
    "version": 3
   },
   "file_extension": ".py",
   "mimetype": "text/x-python",
   "name": "python",
   "nbconvert_exporter": "python",
   "pygments_lexer": "ipython3",
   "version": "3.7.4"
  }
 },
 "nbformat": 4,
 "nbformat_minor": 2
}
