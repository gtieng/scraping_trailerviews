{
 "cells": [
  {
   "cell_type": "markdown",
   "metadata": {},
   "source": [
    "# title"
   ]
  },
  {
   "cell_type": "code",
   "execution_count": 123,
   "metadata": {},
   "outputs": [],
   "source": [
    "import time\n",
    "import re\n",
    "from selenium import webdriver\n",
    "from selenium.webdriver.chrome.options import Options\n",
    "from bs4 import BeautifulSoup\n",
    "from datetime import datetime, timedelta"
   ]
  },
  {
   "cell_type": "code",
   "execution_count": 2,
   "metadata": {},
   "outputs": [],
   "source": [
    "def get_video_urls(youtube_playlist_url):\n",
    "    #webdriver setup & html scrape\n",
    "    driver = webdriver.Chrome('resources/chromedriver')\n",
    "    driver.get(youtube_playlist_url)\n",
    "    soup = BeautifulSoup(driver.page_source)\n",
    "\n",
    "    #isolate the video stats\n",
    "    video_stats = soup.find_all('yt-formatted-string')[5].text\n",
    "    #use regex to isolate video number\n",
    "    no_of_videos = re.sub(',', '', video_stats)\n",
    "    no_of_videos = re.sub(' videos', '', video_stats)\n",
    "    #number of scroll based on 100 thumbnails per scroll\n",
    "    no_of_scrolls = int(int(no_of_videos) / 100 + 1)\n",
    "\n",
    "    #scroll page for every 100 videos\n",
    "    for i in range(no_of_scrolls):\n",
    "        driver.execute_script(\"window.scrollBy(0, 12000);\")\n",
    "        time.sleep(3)\n",
    "\n",
    "    soup = BeautifulSoup(driver.page_source)\n",
    "    driver.quit()\n",
    "\n",
    "    #extract youtube playlist urls\n",
    "    matches = soup.find_all('a', class_='yt-simple-endpoint style-scope ytd-playlist-video-renderer')\n",
    "    youtube_urls = []\n",
    "    for url in matches:\n",
    "        string = url.get('href')\n",
    "        substring = re.search(r'\\/watch\\?v=\\w*', string).group()\n",
    "        youtube_urls.append('http://www.youtube.com' + substring)    \n",
    "    return youtube_urls"
   ]
  },
  {
   "cell_type": "markdown",
   "metadata": {},
   "source": [
    "- title\n",
    "- url\n",
    "- account name\n",
    "- subscribers\n",
    "- views\n",
    "- date uploaded\n",
    "- number of likes\n",
    "- number of dislikes"
   ]
  },
  {
   "cell_type": "code",
   "execution_count": 170,
   "metadata": {},
   "outputs": [],
   "source": [
    "def get_stats(youtube_url):\n",
    "    driver = webdriver.Chrome('resources/chromedriver')\n",
    "    driver.get(youtube_url)\n",
    "    time.sleep(3)\n",
    "    soup = BeautifulSoup(driver.page_source)\n",
    "    driver.quit()\n",
    "    \n",
    "    def km_cleaner(value):\n",
    "        if \"subscribers\" in value:\n",
    "            if 'K' in value:\n",
    "                value = float(re.sub('K subscribers', '', value))\n",
    "                value *= 1000\n",
    "                return int(value)\n",
    "            elif 'M' in value:\n",
    "                value = float(re.sub('M subscribers', '', value))\n",
    "                value *= 1000000\n",
    "                return int(value)\n",
    "            else:\n",
    "                return int(value)\n",
    "        elif \"views\" in value:\n",
    "            if 'K' in value:\n",
    "                value = float(re.sub('K views', '', value))\n",
    "                value *= 1000\n",
    "                return int(value)\n",
    "            elif 'M' in value:\n",
    "                value = float(re.sub('M views', '', value))\n",
    "                value *= 1000000\n",
    "                return int(value)\n",
    "            else:\n",
    "                return int(value)\n",
    "        else:\n",
    "            if 'K' in value:\n",
    "                value = float(re.sub('K', '', value))\n",
    "                value *= 1000\n",
    "                return int(value)\n",
    "            elif 'M' in value:\n",
    "                value = float(re.sub('M', '', value))\n",
    "                value *= 1000000\n",
    "                return int(value)\n",
    "            else:\n",
    "                return int(value)\n",
    "            \n",
    "    title_value = soup.find('h1').text\n",
    "    \n",
    "    account_value = soup.find('yt-formatted-string', class_='ytd-channel-name').text\n",
    "    \n",
    "    subs_string = soup.find('yt-formatted-string', id='owner-sub-count').text\n",
    "    subs_value = km_cleaner(subs_string)\n",
    "    \n",
    "    view_count_string = soup.find('span', class_='short-view-count').text\n",
    "    view_count = km_cleaner(view_count_string)\n",
    "    \n",
    "    def date_uploaded(value):\n",
    "        value = re.sub('•', '', value)\n",
    "        if 'ago' in value:\n",
    "            value = int(re.search(r'\\d+', value).group())\n",
    "            uploaded = (datetime.now() - timedelta(hours=value))\n",
    "            return datetime.strftime(uploaded, '%b %-d, %Y')\n",
    "        else:\n",
    "            return value\n",
    "    \n",
    "    date_string = soup.find('div', id='date').text\n",
    "    date_value = date_uploaded(date_string)\n",
    "    \n",
    "    likes_value = soup.find_all('yt-formatted-string', class_='ytd-toggle-button-renderer')[0].text\n",
    "    dislikes_value = soup.find_all('yt-formatted-string', class_='ytd-toggle-button-renderer')[1].text\n",
    "\n",
    "    \n",
    "    stats = {'account': account_value,\n",
    "             'video_title': title_value,\n",
    "             'date_uploaded': date_value,\n",
    "             'views': view_count,\n",
    "             'subscribers': subs_value,\n",
    "             'likes': likes_value,\n",
    "             'dislikes': dislikes_value,\n",
    "             'url': youtube_url\n",
    "            }\n",
    "    \n",
    "    return stats "
   ]
  },
  {
   "cell_type": "code",
   "execution_count": 171,
   "metadata": {},
   "outputs": [
    {
     "data": {
      "text/plain": [
       "{'video_title': 'SUMMER NIGHTS CityPop シティポップ 80s Mix',\n",
       " 'date_uploaded': 'Aug 12, 2019',\n",
       " 'views': 92000,\n",
       " 'account': 'Ganymede Cafe',\n",
       " 'subscribers': 21200,\n",
       " 'likes': '2.8K',\n",
       " 'dislikes': '19',\n",
       " 'url': 'https://www.youtube.com/watch?v=JmRO_0jat5U'}"
      ]
     },
     "execution_count": 171,
     "metadata": {},
     "output_type": "execute_result"
    }
   ],
   "source": [
    "get_stats('https://www.youtube.com/watch?v=JmRO_0jat5U')"
   ]
  },
  {
   "cell_type": "code",
   "execution_count": null,
   "metadata": {},
   "outputs": [],
   "source": []
  }
 ],
 "metadata": {
  "kernelspec": {
   "display_name": "Python 3",
   "language": "python",
   "name": "python3"
  },
  "language_info": {
   "codemirror_mode": {
    "name": "ipython",
    "version": 3
   },
   "file_extension": ".py",
   "mimetype": "text/x-python",
   "name": "python",
   "nbconvert_exporter": "python",
   "pygments_lexer": "ipython3",
   "version": "3.7.4"
  }
 },
 "nbformat": 4,
 "nbformat_minor": 2
}
