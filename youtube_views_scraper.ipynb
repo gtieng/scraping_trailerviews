{
 "cells": [
  {
   "cell_type": "markdown",
   "metadata": {},
   "source": [
    "# title"
   ]
  },
  {
   "cell_type": "code",
   "execution_count": 1,
   "metadata": {},
   "outputs": [],
   "source": [
    "import time\n",
    "import re\n",
    "from selenium import webdriver\n",
    "from selenium.webdriver.chrome.options import Options\n",
    "from bs4 import BeautifulSoup"
   ]
  },
  {
   "cell_type": "code",
   "execution_count": 155,
   "metadata": {},
   "outputs": [],
   "source": [
    "def get_video_urls(youtube_playlist_url):\n",
    "    #webdriver setup & html scrape\n",
    "    driver = webdriver.Chrome('resources/chromedriver')\n",
    "    driver.get(youtube_playlist_url)\n",
    "    soup = BeautifulSoup(driver.page_source)\n",
    "\n",
    "    #isolate the video stats\n",
    "    video_stats = soup.find_all('yt-formatted-string')[5].text\n",
    "    #use regex to isolate video number\n",
    "    no_of_videos = re.sub(',', '', video_stats)\n",
    "    no_of_videos = re.sub(' videos', '', video_stats)\n",
    "    #number of scroll based on 100 thumbnails per scroll\n",
    "    no_of_scrolls = int(int(no_of_videos) / 100 + 1)\n",
    "\n",
    "    #scroll page for every 100 videos\n",
    "    for i in range(no_of_scrolls):\n",
    "        driver.execute_script(\"window.scrollBy(0, 12000);\")\n",
    "        time.sleep(3)\n",
    "\n",
    "    soup = BeautifulSoup(driver.page_source)\n",
    "    driver.quit()\n",
    "\n",
    "    #extract youtube playlist urls\n",
    "    matches = soup.find_all('a', class_='yt-simple-endpoint style-scope ytd-playlist-video-renderer')\n",
    "    youtube_urls = []\n",
    "    for url in matches:\n",
    "        string = url.get('href')\n",
    "        substring = re.search(r'\\/watch\\?v=\\w*', string).group()\n",
    "        youtube_urls.append('http://www.youtube.com' + substring)    \n",
    "    return youtube_urls"
   ]
  },
  {
   "cell_type": "markdown",
   "metadata": {},
   "source": [
    "- title\n",
    "- url\n",
    "- account name\n",
    "- subscribers\n",
    "- views\n",
    "- date uploaded\n",
    "- number of likes\n",
    "- number of dislikes"
   ]
  },
  {
   "cell_type": "code",
   "execution_count": 76,
   "metadata": {},
   "outputs": [],
   "source": [
    "def get_stats(youtube_url):\n",
    "    driver = webdriver.Chrome('resources/chromedriver')\n",
    "    driver.get(youtube_url)\n",
    "    time.sleep(3)\n",
    "    soup = BeautifulSoup(driver.page_source)\n",
    "    driver.quit()\n",
    "    \n",
    "    def km_cleaner(value):\n",
    "        if \"subscribers\" in value:\n",
    "            if 'K' in value:\n",
    "                value = float(re.sub('K subscribers', '', value))\n",
    "                value *= 1000\n",
    "                return int(value)\n",
    "            elif 'M' in value:\n",
    "                value = float(re.sub('M subscribers', '', value))\n",
    "                value *= 1000000\n",
    "                return int(value)\n",
    "            else:\n",
    "                value = float(re.sub('M subscribers', '', value))\n",
    "                return int(value)\n",
    "        else:\n",
    "            if 'K' in value:\n",
    "                value = float(re.sub('K', '', value))\n",
    "                value *= 1000\n",
    "                return int(value)\n",
    "            elif 'M' in value:\n",
    "                value = float(re.sub('M', '', value))\n",
    "                value *= 1000000\n",
    "                return int(value)\n",
    "            else:\n",
    "                return int(value)\n",
    "            \n",
    "    title_value = soup.find_all('yt-formatted-string')[3].text\n",
    "    \n",
    "    account_value = soup.find_all('yt-formatted-string')[9].text\n",
    "    \n",
    "    subs_string = soup.find_all('yt-formatted-string')[10].text\n",
    "    subs_value = km_cleaner(subs_string)\n",
    "    \n",
    "    view_count_string = soup.find('yt-view-count-renderer').text\n",
    "    view_count = re.search(r'(\\d{1,3},?\\d{1,3},?\\d{1,3},?\\d{1,3},?)', view_count_string).group().replace(',','')\n",
    "    \n",
    "    date_value = soup.find_all('yt-formatted-string')[4].text\n",
    "    \n",
    "    likes_string = soup.find_all('yt-formatted-string')[5].text\n",
    "    likes_value = km_cleaner(likes_string)\n",
    "\n",
    "    dislikes_string = soup.find_all('yt-formatted-string')[6].text\n",
    "    dislikes_value = km_cleaner(dislikes_string)\n",
    "    \n",
    "    stats = {'url': youtube_url,\n",
    "             'date_uploaded': date_value,\n",
    "             'views': view_count,\n",
    "             'account': account_value,\n",
    "             'video_title': title_value,\n",
    "             'subscribers': subs_value,\n",
    "             'likes': likes_value,\n",
    "             'dislikes': dislikes_value\n",
    "            }\n",
    "    \n",
    "    return stats "
   ]
  },
  {
   "cell_type": "code",
   "execution_count": 156,
   "metadata": {},
   "outputs": [],
   "source": [
    "playlist = get_video_urls('https://www.youtube.com/playlist?list=PL7qtZGedQPacVMB47TSAROx1VgTQdV96N')"
   ]
  },
  {
   "cell_type": "code",
   "execution_count": 139,
   "metadata": {},
   "outputs": [],
   "source": [
    "driver = webdriver.Chrome('resources/chromedriver')\n",
    "driver.get('https://www.youtube.com/playlist?list=PLWwAypAcFRgKAIIFqBr9oy-ZYZnixa_Fj')\n",
    "soup = BeautifulSoup(driver.page_source)\n",
    "driver.quit()"
   ]
  },
  {
   "cell_type": "code",
   "execution_count": null,
   "metadata": {},
   "outputs": [],
   "source": []
  },
  {
   "cell_type": "code",
   "execution_count": 146,
   "metadata": {},
   "outputs": [],
   "source": [
    "hit = soup.find_all('yt-formatted-string')[5]"
   ]
  },
  {
   "cell_type": "code",
   "execution_count": 147,
   "metadata": {},
   "outputs": [
    {
     "data": {
      "text/plain": [
       "'5,000 videos'"
      ]
     },
     "execution_count": 147,
     "metadata": {},
     "output_type": "execute_result"
    }
   ],
   "source": [
    "hit.text"
   ]
  },
  {
   "cell_type": "code",
   "execution_count": 131,
   "metadata": {},
   "outputs": [
    {
     "name": "stdout",
     "output_type": "stream",
     "text": [
      "0 <yt-formatted-string class=\"style-scope ytd-button-renderer style-default size-default\" id=\"text\">Skip navigation</yt-formatted-string>\n",
      "1 <yt-formatted-string class=\"style-scope ytd-button-renderer style-suggestive size-small\" id=\"text\">Sign in</yt-formatted-string>\n",
      "2 <yt-formatted-string class=\"style-scope ytd-playlist-thumbnail\" hidden=\"\" id=\"length\"><!--css-build:shady--></yt-formatted-string>\n",
      "3 <yt-formatted-string class=\"style-scope ytd-thumbnail-overlay-side-panel-renderer\">PLAY ALL</yt-formatted-string>\n",
      "4 <yt-formatted-string class=\"style-scope ytd-playlist-sidebar-primary-info-renderer\" has-link-only_=\"\"><a class=\"yt-simple-endpoint style-scope yt-formatted-string\" dir=\"auto\" href=\"/watch?v=8Kp8WKodb3M&amp;list=PL7qtZGedQPacVMB47TSAROx1VgTQdV96N\" spellcheck=\"false\">Mix</a></yt-formatted-string>\n",
      "5 <yt-formatted-string class=\"style-scope ytd-playlist-sidebar-primary-info-renderer\">4 videos</yt-formatted-string>\n",
      "6 <yt-formatted-string class=\"style-scope ytd-playlist-sidebar-primary-info-renderer\">Updated yesterday</yt-formatted-string>\n",
      "7 <yt-formatted-string class=\"style-scope ytd-playlist-sidebar-secondary-info-renderer\" hidden=\"\" id=\"title\" split-lines=\"\"><!--css-build:shady--></yt-formatted-string>\n",
      "8 <yt-formatted-string class=\"style-scope ytd-channel-name\" has-link-only_=\"\" id=\"text\" title=\"\"><a class=\"yt-simple-endpoint style-scope yt-formatted-string\" dir=\"auto\" href=\"/channel/UCf9KCiONFPIpdjBYke5iMlw\" spellcheck=\"false\">Gerard Tieng</a></yt-formatted-string>\n",
      "9 <yt-formatted-string class=\"style-scope ytd-video-owner-renderer\" hidden=\"\" id=\"owner-sub-count\"><!--css-build:shady--></yt-formatted-string>\n",
      "10 <yt-formatted-string class=\"style-scope ytd-button-renderer style-destructive size-default\" id=\"text\">Subscribe</yt-formatted-string>\n",
      "11 <yt-formatted-string class=\"style-scope ytd-playlist-sidebar-secondary-info-renderer\" id=\"description\" split-lines=\"\"><!--css-build:shady--></yt-formatted-string>\n",
      "12 <yt-formatted-string class=\"style-scope ytd-playlist-video-renderer\" id=\"index\">1</yt-formatted-string>\n",
      "13 <yt-formatted-string class=\"style-scope ytd-channel-name complex-string\" ellipsis-truncate=\"\" has-link-only_=\"\" id=\"text\" title=\"\"><a class=\"yt-simple-endpoint style-scope yt-formatted-string\" dir=\"auto\" href=\"/user/Exightly\" spellcheck=\"false\">Exightly</a></yt-formatted-string>\n",
      "14 <yt-formatted-string class=\"style-scope ytd-playlist-video-renderer\" hidden=\"\" id=\"contributor\"><!--css-build:shady--></yt-formatted-string>\n",
      "15 <yt-formatted-string class=\"style-scope ytd-playlist-video-renderer\" id=\"index\">2</yt-formatted-string>\n",
      "16 <yt-formatted-string class=\"style-scope ytd-channel-name complex-string\" ellipsis-truncate=\"\" has-link-only_=\"\" id=\"text\" title=\"\"><a class=\"yt-simple-endpoint style-scope yt-formatted-string\" dir=\"auto\" href=\"/channel/UCrrfJ_8kX6YyXE7F3pDJzEw\" spellcheck=\"false\">Rainych Ran</a></yt-formatted-string>\n",
      "17 <yt-formatted-string class=\"style-scope ytd-playlist-video-renderer\" hidden=\"\" id=\"contributor\"><!--css-build:shady--></yt-formatted-string>\n",
      "18 <yt-formatted-string class=\"style-scope ytd-playlist-video-renderer\" id=\"index\">3</yt-formatted-string>\n",
      "19 <yt-formatted-string class=\"style-scope ytd-channel-name complex-string\" ellipsis-truncate=\"\" has-link-only_=\"\" id=\"text\" title=\"\"><a class=\"yt-simple-endpoint style-scope yt-formatted-string\" dir=\"auto\" href=\"/channel/UC2QN6B4CHjFuAKMQyYD4m-A\" spellcheck=\"false\">ScoundrelMedia</a></yt-formatted-string>\n",
      "20 <yt-formatted-string class=\"style-scope ytd-playlist-video-renderer\" hidden=\"\" id=\"contributor\"><!--css-build:shady--></yt-formatted-string>\n",
      "21 <yt-formatted-string class=\"style-scope ytd-playlist-video-renderer\" id=\"index\">4</yt-formatted-string>\n",
      "22 <yt-formatted-string class=\"style-scope ytd-channel-name complex-string\" ellipsis-truncate=\"\" has-link-only_=\"\" id=\"text\" title=\"\"><a class=\"yt-simple-endpoint style-scope yt-formatted-string\" dir=\"auto\" href=\"/user/KQEDondemand\" spellcheck=\"false\">KQED</a></yt-formatted-string>\n",
      "23 <yt-formatted-string class=\"style-scope ytd-playlist-video-renderer\" hidden=\"\" id=\"contributor\"><!--css-build:shady--></yt-formatted-string>\n",
      "24 <yt-formatted-string class=\"super-title style-scope ytd-video-primary-info-renderer\" force-default-style=\"\"><!--css-build:shady--></yt-formatted-string>\n",
      "25 <yt-formatted-string class=\"style-scope ytd-video-primary-info-renderer\" force-default-style=\"\"><!--css-build:shady--></yt-formatted-string>\n",
      "26 <yt-formatted-string class=\"style-scope ytd-video-primary-info-renderer\"><!--css-build:shady--></yt-formatted-string>\n",
      "27 <yt-formatted-string class=\"style-scope ytd-channel-name\" id=\"text\" title=\"\"><!--css-build:shady--></yt-formatted-string>\n",
      "28 <yt-formatted-string class=\"style-scope ytd-video-owner-renderer\" id=\"owner-sub-count\"><!--css-build:shady--></yt-formatted-string>\n",
      "29 <yt-formatted-string class=\"content style-scope ytd-video-secondary-info-renderer\" force-default-style=\"\" split-lines=\"\"><!--css-build:shady--></yt-formatted-string>\n",
      "30 <yt-formatted-string class=\"less-button style-scope ytd-video-secondary-info-renderer\" role=\"button\" slot=\"less-button\"><!--css-build:shady--></yt-formatted-string>\n",
      "31 <yt-formatted-string class=\"more-button style-scope ytd-video-secondary-info-renderer\" role=\"button\" slot=\"more-button\"><!--css-build:shady--></yt-formatted-string>\n",
      "32 <yt-formatted-string class=\"miniplayer-title style-scope ytd-miniplayer\" ellipsis-truncate=\"\" title=\"\"><!--css-build:shady--></yt-formatted-string>\n",
      "33 <yt-formatted-string class=\"style-scope ytd-miniplayer\" id=\"owner-name\" no-endpoints=\"\"><!--css-build:shady--></yt-formatted-string>\n",
      "34 <yt-formatted-string class=\"title style-scope ytd-playlist-panel-renderer\"><!--css-build:shady--></yt-formatted-string>\n",
      "35 <yt-formatted-string class=\"publisher style-scope ytd-playlist-panel-renderer\" ellipsis-truncate=\"\" title=\"\"><!--css-build:shady--></yt-formatted-string>\n",
      "36 <yt-formatted-string class=\"index-message style-scope ytd-playlist-panel-renderer\" hidden=\"\" respecthtmldir=\"\"><!--css-build:shady--></yt-formatted-string>\n"
     ]
    }
   ],
   "source": [
    "for index, value in enumerate(hit):\n",
    "    print(index, value)"
   ]
  },
  {
   "cell_type": "code",
   "execution_count": 108,
   "metadata": {},
   "outputs": [],
   "source": [
    "test = int(int('4') / 100) + 1"
   ]
  },
  {
   "cell_type": "code",
   "execution_count": 109,
   "metadata": {},
   "outputs": [
    {
     "data": {
      "text/plain": [
       "1"
      ]
     },
     "execution_count": 109,
     "metadata": {},
     "output_type": "execute_result"
    }
   ],
   "source": [
    "test"
   ]
  },
  {
   "cell_type": "code",
   "execution_count": 113,
   "metadata": {},
   "outputs": [
    {
     "data": {
      "text/plain": [
       "1"
      ]
     },
     "execution_count": 113,
     "metadata": {},
     "output_type": "execute_result"
    }
   ],
   "source": [
    "int(int('4') / 100) + 1"
   ]
  },
  {
   "cell_type": "code",
   "execution_count": 127,
   "metadata": {},
   "outputs": [],
   "source": [
    "test = re.search('(\\d{0,3},?\\d{0,3},?)', gerard).group()"
   ]
  },
  {
   "cell_type": "code",
   "execution_count": 128,
   "metadata": {},
   "outputs": [
    {
     "data": {
      "text/plain": [
       "''"
      ]
     },
     "execution_count": 128,
     "metadata": {},
     "output_type": "execute_result"
    }
   ],
   "source": [
    "test"
   ]
  },
  {
   "cell_type": "code",
   "execution_count": 124,
   "metadata": {},
   "outputs": [
    {
     "data": {
      "text/plain": [
       "'\\n4 videos\\nUpdated yesterday\\n'"
      ]
     },
     "execution_count": 124,
     "metadata": {},
     "output_type": "execute_result"
    }
   ],
   "source": [
    "gerard"
   ]
  },
  {
   "cell_type": "code",
   "execution_count": 129,
   "metadata": {},
   "outputs": [
    {
     "data": {
      "text/plain": [
       "'\\n4 videos\\nUpdated yesterday\\n'"
      ]
     },
     "execution_count": 129,
     "metadata": {},
     "output_type": "execute_result"
    }
   ],
   "source": [
    "gerard"
   ]
  },
  {
   "cell_type": "code",
   "execution_count": null,
   "metadata": {},
   "outputs": [],
   "source": []
  }
 ],
 "metadata": {
  "kernelspec": {
   "display_name": "Python 3",
   "language": "python",
   "name": "python3"
  },
  "language_info": {
   "codemirror_mode": {
    "name": "ipython",
    "version": 3
   },
   "file_extension": ".py",
   "mimetype": "text/x-python",
   "name": "python",
   "nbconvert_exporter": "python",
   "pygments_lexer": "ipython3",
   "version": "3.7.4"
  }
 },
 "nbformat": 4,
 "nbformat_minor": 2
}
