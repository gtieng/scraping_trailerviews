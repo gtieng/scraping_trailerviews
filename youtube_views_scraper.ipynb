{
 "cells": [
  {
   "cell_type": "markdown",
   "metadata": {},
   "source": [
    "# title"
   ]
  },
  {
   "cell_type": "code",
   "execution_count": 1,
   "metadata": {},
   "outputs": [],
   "source": [
    "import time\n",
    "import re\n",
    "from selenium import webdriver\n",
    "from selenium.webdriver.chrome.options import Options\n",
    "from bs4 import BeautifulSoup"
   ]
  },
  {
   "cell_type": "code",
   "execution_count": 2,
   "metadata": {},
   "outputs": [],
   "source": [
    "def get_video_urls(youtube_playlist_url):\n",
    "    #webdriver setup & html scrape\n",
    "    driver = webdriver.Chrome('resources/chromedriver')\n",
    "    driver.get(youtube_playlist_url)\n",
    "    soup = BeautifulSoup(driver.page_source)\n",
    "\n",
    "    #isolate the video stats\n",
    "    video_stats = soup.find('div', id='stats').text\n",
    "    #use regex to isolate video number\n",
    "    no_of_videos = re.search('(\\d{1,3},?\\d{1,3},?)', video_stats).group()\n",
    "    #number of scroll based on 100 thumbnails per scroll\n",
    "    no_of_scrolls = int(int(no_of_videos) / 100) + 1\n",
    "\n",
    "    #scroll page for every 100 videos\n",
    "    for i in range(no_of_scrolls):\n",
    "        driver.execute_script(\"window.scrollBy(0, 12000);\")\n",
    "        time.sleep(3)\n",
    "\n",
    "    soup = BeautifulSoup(driver.page_source)\n",
    "    driver.quit()\n",
    "\n",
    "    #extract youtube playlist urls\n",
    "    matches = soup.find_all('a', class_='yt-simple-endpoint style-scope ytd-playlist-video-renderer')\n",
    "    youtube_urls = []\n",
    "    for url in matches:\n",
    "        string = url.get('href')\n",
    "        substring = re.search(r'\\/watch\\?v=\\w*', string).group()\n",
    "        youtube_urls.append('http://www.youtube.com' + substring)    \n",
    "    return youtube_urls"
   ]
  },
  {
   "cell_type": "code",
   "execution_count": 3,
   "metadata": {},
   "outputs": [],
   "source": [
    "video = 'https://www.youtube.com/watch?v=4GokR2C9wy0'"
   ]
  },
  {
   "cell_type": "markdown",
   "metadata": {},
   "source": [
    "- title\n",
    "- url\n",
    "- account name\n",
    "- subscribers\n",
    "- views\n",
    "- date uploaded\n",
    "- number of likes\n",
    "- number of dislikes"
   ]
  },
  {
   "cell_type": "code",
   "execution_count": 76,
   "metadata": {},
   "outputs": [],
   "source": [
    "def get_stats(youtube_url):\n",
    "    driver = webdriver.Chrome('resources/chromedriver')\n",
    "    driver.get(youtube_url)\n",
    "    time.sleep(3)\n",
    "    soup = BeautifulSoup(driver.page_source)\n",
    "    driver.quit()\n",
    "    \n",
    "    def km_cleaner(value):\n",
    "        if \"subscribers\" in value:\n",
    "            if 'K' in value:\n",
    "                value = float(re.sub('K subscribers', '', value))\n",
    "                value *= 1000\n",
    "                return int(value)\n",
    "            elif 'M' in value:\n",
    "                value = float(re.sub('M subscribers', '', value))\n",
    "                value *= 1000000\n",
    "                return int(value)\n",
    "            else:\n",
    "                value = float(re.sub('M subscribers', '', value))\n",
    "                return int(value)\n",
    "        else:\n",
    "            if 'K' in value:\n",
    "                value = float(re.sub('K', '', value))\n",
    "                value *= 1000\n",
    "                return int(value)\n",
    "            elif 'M' in value:\n",
    "                value = float(re.sub('M', '', value))\n",
    "                value *= 1000000\n",
    "                return int(value)\n",
    "            else:\n",
    "                return int(value)\n",
    "    title_value = soup.find_all('yt-formatted-string')[3].text\n",
    "    \n",
    "    account_value = soup.find_all('yt-formatted-string')[9].text\n",
    "    \n",
    "    subs_string = soup.find_all('yt-formatted-string')[10].text\n",
    "    subs_value = km_cleaner(subs_string)\n",
    "    \n",
    "    view_count_string = soup.find('yt-view-count-renderer').text\n",
    "    view_count = re.search(r'(\\d{1,3},?\\d{1,3},?\\d{1,3},?\\d{1,3},?)', view_count_string).group().replace(',','')\n",
    "    \n",
    "    date_value = soup.find_all('yt-formatted-string')[4].text\n",
    "    \n",
    "    likes_string = soup.find_all('yt-formatted-string')[5].text\n",
    "    likes_value = km_cleaner(likes_string)\n",
    "\n",
    "    dislikes_string = soup.find_all('yt-formatted-string')[6].text\n",
    "    dislikes_value = km_cleaner(dislikes_string)\n",
    "    \n",
    "    stats = {'url': youtube_url,\n",
    "             'date_uploaded': date_value,\n",
    "             'views': view_count,\n",
    "             'account': account_value,\n",
    "             'video_title': title_value,\n",
    "             'subscribers': subs_value,\n",
    "             'likes':likes_value,\n",
    "             'dislikes':dislikes_value\n",
    "            }\n",
    "    \n",
    "    return stats "
   ]
  },
  {
   "cell_type": "code",
   "execution_count": 67,
   "metadata": {},
   "outputs": [],
   "source": [
    "driver = webdriver.Chrome('resources/chromedriver')\n",
    "driver.get(video)\n",
    "time.sleep(3)\n",
    "soup = BeautifulSoup(driver.page_source)\n",
    "driver.quit()"
   ]
  },
  {
   "cell_type": "code",
   "execution_count": 57,
   "metadata": {},
   "outputs": [],
   "source": [
    "def km_cleaner(value):\n",
    "    if \"subscribers\" in value:\n",
    "        if 'K' in value:\n",
    "            value = float(re.sub('K subscribers', '', value))\n",
    "            value *= 1000\n",
    "            return int(value)\n",
    "        elif 'M' in value:\n",
    "            value = float(re.sub('M subscribers', '', value))\n",
    "            value *= 1000000\n",
    "            return int(value)\n",
    "        else:\n",
    "            value = float(re.sub('M subscribers', '', value))\n",
    "            return int(value)\n",
    "    else:\n",
    "        if 'K' in value:\n",
    "            value = float(re.sub('K', '', value))\n",
    "            value *= 1000\n",
    "            return int(value)\n",
    "        elif 'M' in value:\n",
    "            value = float(re.sub('M', '', value))\n",
    "            value *= 1000000\n",
    "            return int(value)\n",
    "        else:\n",
    "            return int(value)\n"
   ]
  },
  {
   "cell_type": "code",
   "execution_count": 8,
   "metadata": {},
   "outputs": [],
   "source": [
    "#title\n",
    "title_value = soup.find_all('yt-formatted-string')[3].text"
   ]
  },
  {
   "cell_type": "code",
   "execution_count": 46,
   "metadata": {},
   "outputs": [],
   "source": [
    "#account name\n",
    "account_value = soup.find_all('yt-formatted-string')[9].text"
   ]
  },
  {
   "cell_type": "code",
   "execution_count": 58,
   "metadata": {},
   "outputs": [],
   "source": [
    "#subscribers\n",
    "subs_string = soup.find_all('yt-formatted-string')[10].text\n",
    "subs_value = km_cleaner(subs_string)"
   ]
  },
  {
   "cell_type": "code",
   "execution_count": 5,
   "metadata": {},
   "outputs": [],
   "source": [
    "#viewcount\n",
    "view_count_string = soup.find('yt-view-count-renderer').text\n",
    "view_count = re.search(r'(\\d{1,3},?\\d{1,3},?\\d{1,3},?\\d{1,3},?)', view_count_string).group().replace(',','')"
   ]
  },
  {
   "cell_type": "code",
   "execution_count": 50,
   "metadata": {},
   "outputs": [],
   "source": [
    "#date\n",
    "date_string = soup.find_all('yt-formatted-string')[4].text\n",
    "date_value = datetime.strptime(date_string, \"%b %d, %Y\")"
   ]
  },
  {
   "cell_type": "code",
   "execution_count": 60,
   "metadata": {},
   "outputs": [],
   "source": [
    "likes_string = soup.find_all('yt-formatted-string')[5].text\n",
    "likes_value = km_cleaner(likes_string)\n",
    "\n",
    "dislikes_string = soup.find_all('yt-formatted-string')[6].text\n",
    "dislikes_value = km_cleaner(dislikes_string)"
   ]
  },
  {
   "cell_type": "code",
   "execution_count": 77,
   "metadata": {},
   "outputs": [
    {
     "data": {
      "text/plain": [
       "{'url': 'https://www.youtube.com/watch?v=H8jL9uRhIbI',\n",
       " 'date_uploaded': 'Dec 16, 2008',\n",
       " 'views': '267041',\n",
       " 'account': 'KQED',\n",
       " 'video_title': 'Go Fish (211): Jacques Pépin: More Fast Food My Way',\n",
       " 'subscribers': 80000,\n",
       " 'likes': 1300,\n",
       " 'dislikes': 42}"
      ]
     },
     "execution_count": 77,
     "metadata": {},
     "output_type": "execute_result"
    }
   ],
   "source": [
    "get_stats(\"https://www.youtube.com/watch?v=H8jL9uRhIbI\")"
   ]
  },
  {
   "cell_type": "code",
   "execution_count": null,
   "metadata": {},
   "outputs": [],
   "source": []
  }
 ],
 "metadata": {
  "kernelspec": {
   "display_name": "Python 3",
   "language": "python",
   "name": "python3"
  },
  "language_info": {
   "codemirror_mode": {
    "name": "ipython",
    "version": 3
   },
   "file_extension": ".py",
   "mimetype": "text/x-python",
   "name": "python",
   "nbconvert_exporter": "python",
   "pygments_lexer": "ipython3",
   "version": "3.7.4"
  }
 },
 "nbformat": 4,
 "nbformat_minor": 2
}
